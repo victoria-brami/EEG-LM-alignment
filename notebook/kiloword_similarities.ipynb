{
 "cells": [
  {
   "cell_type": "code",
   "execution_count": 1,
   "metadata": {
    "collapsed": true,
    "ExecuteTime": {
     "end_time": "2024-06-12T11:35:02.994283533Z",
     "start_time": "2024-06-12T11:35:02.098035087Z"
    }
   },
   "outputs": [],
   "source": [
    "# Imports\n",
    "import numpy as np\n",
    "import pandas as pd\n",
    "from tqdm import tqdm\n",
    "\n",
    "from kiloword.utils import *\n",
    "from kiloword.config import Config\n",
    "from kiloword.visualisation import plot_features\n",
    "from kiloword.dimension_reduction import *"
   ]
  },
  {
   "cell_type": "code",
   "execution_count": null,
   "outputs": [],
   "source": [],
   "metadata": {
    "collapsed": false
   }
  },
  {
   "cell_type": "code",
   "execution_count": 2,
   "outputs": [
    {
     "data": {
      "text/plain": "(960, 29, 256)"
     },
     "execution_count": 2,
     "metadata": {},
     "output_type": "execute_result"
    }
   ],
   "source": [
    "data = pd.read_csv(Config().MNE_PATH / \"KWORD_ERP_LEXICAL_DECISION_DGMH2015.csv\")\n",
    "list_words = pd.unique(data[\"WORD\"])\n",
    "list_electrodes = pd.unique(data[\"ELECNAME\"])\n",
    "\n",
    "grouped_data = data.groupby(\"WORD\")\n",
    "list_eegs = []\n",
    "for word in list_words:\n",
    "    da = grouped_data.get_group(word)\n",
    "    da = da[~da['ELECNAME'].isin([\"REJ1\", \"REJ2\", \"REJ3\"])]#.drop(columns=['WORD#', 'WORD', 'ELEC#', 'ELECNAME'])\n",
    "    d = da.drop(columns=['WORD#', 'WORD', 'ELEC#', 'ELECNAME']).to_numpy()\n",
    "    list_eegs.append(d)\n",
    "eegs = np.stack(list_eegs)\n",
    "eegs.shape"
   ],
   "metadata": {
    "collapsed": false,
    "ExecuteTime": {
     "end_time": "2024-06-12T11:35:48.493581537Z",
     "start_time": "2024-06-12T11:35:47.535339224Z"
    }
   }
  },
  {
   "cell_type": "code",
   "execution_count": null,
   "outputs": [],
   "source": [
    "### 2. Parse the Semantic labels"
   ],
   "metadata": {
    "collapsed": false
   }
  },
  {
   "cell_type": "code",
   "execution_count": null,
   "outputs": [],
   "source": [
    "from kiloword.utils import parse_table_labels\n",
    "\n",
    "LIST_LABELS = [\"ENTERTAINMENT\", \"MONEY\", \"NATURE\", \"QUANTITY\",\n",
    "               \"POLITICS\", \"RELIGION\", \"HOUSE\", \"MOVE\", \"SPORT\",\n",
    "               \"JUSTICE\", \"INDUSTRY\", \"LANGUAGE\", \"FOOD\", \"MODE\",\n",
    "               \"DEVICE\", \"FAMILY\", \"MUSIC\", \"CRIME\", \"CATASTROPHE\",\n",
    "               \"ARMY\", \"TIME\", \"SCHOOL\", \"CLEANNESS\", \"DEATH\",\n",
    "               \"GLORY\", \"BODY\", \"PEOPLE\", \"MEDICAL\", \"MATERIAL\",\n",
    "               \"GOVERN\", \"SCIENCE\", \"PHILOSOPHY\"]\n",
    "\n",
    "LABELS_CSV = pd.read_csv(Config().MNE_PATH / \"words_and_pos.csv\")\n",
    "\n",
    "labels_table = parse_table_labels(LABELS_CSV, LIST_LABELS)"
   ],
   "metadata": {
    "collapsed": false
   }
  },
  {
   "cell_type": "code",
   "execution_count": null,
   "outputs": [],
   "source": [
    "### 3. load Bert Features"
   ],
   "metadata": {
    "collapsed": false
   }
  },
  {
   "cell_type": "code",
   "execution_count": 4,
   "outputs": [],
   "source": [
    "bert_features = np.load(\"/home/viki/Downloads/kiloword_trained_bert_features.npy\")\n",
    "random_bert_features = np.load(\"/home/viki/Downloads/kiloword_random_bert_features.npy\")"
   ],
   "metadata": {
    "collapsed": false,
    "ExecuteTime": {
     "end_time": "2024-06-12T11:37:54.966952434Z",
     "start_time": "2024-06-12T11:37:54.950074935Z"
    }
   }
  },
  {
   "cell_type": "code",
   "execution_count": null,
   "outputs": [],
   "source": [
    "# Make pairs\n",
    "from itertools import combinations\n",
    "\n",
    "def all_pairs(elements):\n",
    "    return list(combinations(elements, 2))\n",
    "\n",
    "list_paired_words = all_pairs(list_words)\n",
    "list_paired_indices = all_pairs(range(len(list_words)))"
   ],
   "metadata": {
    "collapsed": false
   }
  },
  {
   "cell_type": "code",
   "execution_count": null,
   "outputs": [],
   "source": [
    "### 4. Distances computation"
   ],
   "metadata": {
    "collapsed": false
   }
  },
  {
   "cell_type": "code",
   "execution_count": null,
   "outputs": [],
   "source": [
    "from pyxdameraulevenshtein import damerau_levenshtein_distance, normalized_damerau_levenshtein_distance\n",
    "\n",
    "def compute_all_dl_distance(list_pairs, normalize=True):\n",
    "    distances = []\n",
    "    for (word1, word2) in tqdm(list_pairs):\n",
    "        if normalize:\n",
    "            dist = normalized_damerau_levenshtein_distance(word1, word2)\n",
    "        else:\n",
    "            dist = damerau_levenshtein_distance(word1, word2)\n",
    "        distances.append(dist)\n",
    "    return distances"
   ],
   "metadata": {
    "collapsed": false
   }
  }
 ],
 "metadata": {
  "kernelspec": {
   "display_name": "Python 3",
   "language": "python",
   "name": "python3"
  },
  "language_info": {
   "codemirror_mode": {
    "name": "ipython",
    "version": 2
   },
   "file_extension": ".py",
   "mimetype": "text/x-python",
   "name": "python",
   "nbconvert_exporter": "python",
   "pygments_lexer": "ipython2",
   "version": "2.7.6"
  }
 },
 "nbformat": 4,
 "nbformat_minor": 0
}
