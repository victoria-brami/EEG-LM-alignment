{
 "cells": [
  {
   "cell_type": "code",
   "execution_count": 3,
   "metadata": {
    "collapsed": true,
    "ExecuteTime": {
     "end_time": "2024-06-03T11:49:35.127028823Z",
     "start_time": "2024-06-03T11:49:35.121190043Z"
    }
   },
   "outputs": [],
   "source": [
    "import numpy as np\n",
    "import pandas as pd\n",
    "\n",
    "from kiloword.utils import *\n",
    "from kiloword.config import Config\n",
    "from kiloword.visualisation import plot_features\n",
    "from kiloword.dimension_reduction import *"
   ]
  },
  {
   "cell_type": "markdown",
   "source": [
    "## Download the data"
   ],
   "metadata": {
    "collapsed": false
   }
  },
  {
   "cell_type": "code",
   "execution_count": 6,
   "outputs": [],
   "source": [
    "metadata_df = load_kiloword_metadata()"
   ],
   "metadata": {
    "collapsed": false,
    "ExecuteTime": {
     "end_time": "2024-06-03T11:50:47.645803110Z",
     "start_time": "2024-06-03T11:50:47.122040030Z"
    }
   }
  },
  {
   "cell_type": "code",
   "execution_count": 7,
   "outputs": [
    {
     "ename": "KeyboardInterrupt",
     "evalue": "",
     "output_type": "error",
     "traceback": [
      "\u001B[0;31m---------------------------------------------------------------------------\u001B[0m",
      "\u001B[0;31mKeyboardInterrupt\u001B[0m                         Traceback (most recent call last)",
      "Cell \u001B[0;32mIn[7], line 1\u001B[0m\n\u001B[0;32m----> 1\u001B[0m data_df \u001B[38;5;241m=\u001B[39m load_kiloword_metadata(Config()\u001B[38;5;241m.\u001B[39mDATATXT)\n",
      "File \u001B[0;32m~/Documents/Erasmus/kiloword/kiloword/utils.py:24\u001B[0m, in \u001B[0;36mload_kiloword_metadata\u001B[0;34m(datapath)\u001B[0m\n\u001B[1;32m     22\u001B[0m \u001B[38;5;28;01mfor\u001B[39;00m line \u001B[38;5;129;01min\u001B[39;00m metadata\u001B[38;5;241m.\u001B[39mreadlines():\n\u001B[1;32m     23\u001B[0m     data \u001B[38;5;241m=\u001B[39m line\u001B[38;5;241m.\u001B[39mstrip()\u001B[38;5;241m.\u001B[39msplit()\n\u001B[0;32m---> 24\u001B[0m     metadata_df\u001B[38;5;241m.\u001B[39mloc[\u001B[38;5;28mlen\u001B[39m(metadata_df)] \u001B[38;5;241m=\u001B[39m data\n\u001B[1;32m     25\u001B[0m \u001B[38;5;28;01mreturn\u001B[39;00m metadata_df\n",
      "File \u001B[0;32m~/anaconda3/lib/python3.11/site-packages/pandas/core/indexing.py:849\u001B[0m, in \u001B[0;36m_LocationIndexer.__setitem__\u001B[0;34m(self, key, value)\u001B[0m\n\u001B[1;32m    846\u001B[0m \u001B[38;5;28mself\u001B[39m\u001B[38;5;241m.\u001B[39m_has_valid_setitem_indexer(key)\n\u001B[1;32m    848\u001B[0m iloc \u001B[38;5;241m=\u001B[39m \u001B[38;5;28mself\u001B[39m \u001B[38;5;28;01mif\u001B[39;00m \u001B[38;5;28mself\u001B[39m\u001B[38;5;241m.\u001B[39mname \u001B[38;5;241m==\u001B[39m \u001B[38;5;124m\"\u001B[39m\u001B[38;5;124miloc\u001B[39m\u001B[38;5;124m\"\u001B[39m \u001B[38;5;28;01melse\u001B[39;00m \u001B[38;5;28mself\u001B[39m\u001B[38;5;241m.\u001B[39mobj\u001B[38;5;241m.\u001B[39miloc\n\u001B[0;32m--> 849\u001B[0m iloc\u001B[38;5;241m.\u001B[39m_setitem_with_indexer(indexer, value, \u001B[38;5;28mself\u001B[39m\u001B[38;5;241m.\u001B[39mname)\n",
      "File \u001B[0;32m~/anaconda3/lib/python3.11/site-packages/pandas/core/indexing.py:1825\u001B[0m, in \u001B[0;36m_iLocIndexer._setitem_with_indexer\u001B[0;34m(self, indexer, value, name)\u001B[0m\n\u001B[1;32m   1822\u001B[0m     indexer, missing \u001B[38;5;241m=\u001B[39m convert_missing_indexer(indexer)\n\u001B[1;32m   1824\u001B[0m     \u001B[38;5;28;01mif\u001B[39;00m missing:\n\u001B[0;32m-> 1825\u001B[0m         \u001B[38;5;28mself\u001B[39m\u001B[38;5;241m.\u001B[39m_setitem_with_indexer_missing(indexer, value)\n\u001B[1;32m   1826\u001B[0m         \u001B[38;5;28;01mreturn\u001B[39;00m\n\u001B[1;32m   1828\u001B[0m \u001B[38;5;28;01mif\u001B[39;00m name \u001B[38;5;241m==\u001B[39m \u001B[38;5;124m\"\u001B[39m\u001B[38;5;124mloc\u001B[39m\u001B[38;5;124m\"\u001B[39m:\n\u001B[1;32m   1829\u001B[0m     \u001B[38;5;66;03m# must come after setting of missing\u001B[39;00m\n",
      "File \u001B[0;32m~/anaconda3/lib/python3.11/site-packages/pandas/core/indexing.py:2180\u001B[0m, in \u001B[0;36m_iLocIndexer._setitem_with_indexer_missing\u001B[0;34m(self, indexer, value)\u001B[0m\n\u001B[1;32m   2178\u001B[0m     \u001B[38;5;28mself\u001B[39m\u001B[38;5;241m.\u001B[39mobj\u001B[38;5;241m.\u001B[39m_mgr \u001B[38;5;241m=\u001B[39m df\u001B[38;5;241m.\u001B[39m_mgr\n\u001B[1;32m   2179\u001B[0m \u001B[38;5;28;01melse\u001B[39;00m:\n\u001B[0;32m-> 2180\u001B[0m     \u001B[38;5;28mself\u001B[39m\u001B[38;5;241m.\u001B[39mobj\u001B[38;5;241m.\u001B[39m_mgr \u001B[38;5;241m=\u001B[39m \u001B[38;5;28mself\u001B[39m\u001B[38;5;241m.\u001B[39mobj\u001B[38;5;241m.\u001B[39m_append(value)\u001B[38;5;241m.\u001B[39m_mgr\n\u001B[1;32m   2181\u001B[0m \u001B[38;5;28mself\u001B[39m\u001B[38;5;241m.\u001B[39mobj\u001B[38;5;241m.\u001B[39m_maybe_update_cacher(clear\u001B[38;5;241m=\u001B[39m\u001B[38;5;28;01mTrue\u001B[39;00m)\n",
      "File \u001B[0;32m~/anaconda3/lib/python3.11/site-packages/pandas/core/frame.py:9540\u001B[0m, in \u001B[0;36mDataFrame._append\u001B[0;34m(self, other, ignore_index, verify_integrity, sort)\u001B[0m\n\u001B[1;32m   9537\u001B[0m     row_df \u001B[38;5;241m=\u001B[39m other\u001B[38;5;241m.\u001B[39mto_frame()\u001B[38;5;241m.\u001B[39mT\n\u001B[1;32m   9538\u001B[0m     \u001B[38;5;66;03m# infer_objects is needed for\u001B[39;00m\n\u001B[1;32m   9539\u001B[0m     \u001B[38;5;66;03m#  test_append_empty_frame_to_series_with_dateutil_tz\u001B[39;00m\n\u001B[0;32m-> 9540\u001B[0m     other \u001B[38;5;241m=\u001B[39m row_df\u001B[38;5;241m.\u001B[39minfer_objects(copy\u001B[38;5;241m=\u001B[39m\u001B[38;5;28;01mFalse\u001B[39;00m)\u001B[38;5;241m.\u001B[39mrename_axis(\n\u001B[1;32m   9541\u001B[0m         index\u001B[38;5;241m.\u001B[39mnames, copy\u001B[38;5;241m=\u001B[39m\u001B[38;5;28;01mFalse\u001B[39;00m\n\u001B[1;32m   9542\u001B[0m     )\n\u001B[1;32m   9543\u001B[0m \u001B[38;5;28;01melif\u001B[39;00m \u001B[38;5;28misinstance\u001B[39m(other, \u001B[38;5;28mlist\u001B[39m):\n\u001B[1;32m   9544\u001B[0m     \u001B[38;5;28;01mif\u001B[39;00m \u001B[38;5;129;01mnot\u001B[39;00m other:\n",
      "File \u001B[0;32m~/anaconda3/lib/python3.11/site-packages/pandas/core/generic.py:6515\u001B[0m, in \u001B[0;36mNDFrame.infer_objects\u001B[0;34m(self, copy)\u001B[0m\n\u001B[1;32m   6470\u001B[0m \u001B[38;5;129m@final\u001B[39m\n\u001B[1;32m   6471\u001B[0m \u001B[38;5;28;01mdef\u001B[39;00m \u001B[38;5;21minfer_objects\u001B[39m(\u001B[38;5;28mself\u001B[39m: NDFrameT, copy: bool_t \u001B[38;5;241m|\u001B[39m \u001B[38;5;28;01mNone\u001B[39;00m \u001B[38;5;241m=\u001B[39m \u001B[38;5;28;01mNone\u001B[39;00m) \u001B[38;5;241m-\u001B[39m\u001B[38;5;241m>\u001B[39m NDFrameT:\n\u001B[1;32m   6472\u001B[0m \u001B[38;5;250m    \u001B[39m\u001B[38;5;124;03m\"\"\"\u001B[39;00m\n\u001B[1;32m   6473\u001B[0m \u001B[38;5;124;03m    Attempt to infer better dtypes for object columns.\u001B[39;00m\n\u001B[1;32m   6474\u001B[0m \n\u001B[0;32m   (...)\u001B[0m\n\u001B[1;32m   6513\u001B[0m \u001B[38;5;124;03m    dtype: object\u001B[39;00m\n\u001B[1;32m   6514\u001B[0m \u001B[38;5;124;03m    \"\"\"\u001B[39;00m\n\u001B[0;32m-> 6515\u001B[0m     new_mgr \u001B[38;5;241m=\u001B[39m \u001B[38;5;28mself\u001B[39m\u001B[38;5;241m.\u001B[39m_mgr\u001B[38;5;241m.\u001B[39mconvert(copy\u001B[38;5;241m=\u001B[39mcopy)\n\u001B[1;32m   6516\u001B[0m     \u001B[38;5;28;01mreturn\u001B[39;00m \u001B[38;5;28mself\u001B[39m\u001B[38;5;241m.\u001B[39m_constructor(new_mgr)\u001B[38;5;241m.\u001B[39m__finalize__(\u001B[38;5;28mself\u001B[39m, method\u001B[38;5;241m=\u001B[39m\u001B[38;5;124m\"\u001B[39m\u001B[38;5;124minfer_objects\u001B[39m\u001B[38;5;124m\"\u001B[39m)\n",
      "File \u001B[0;32m~/anaconda3/lib/python3.11/site-packages/pandas/core/internals/managers.py:468\u001B[0m, in \u001B[0;36mBaseBlockManager.convert\u001B[0;34m(self, copy)\u001B[0m\n\u001B[1;32m    465\u001B[0m \u001B[38;5;28;01melif\u001B[39;00m using_copy_on_write():\n\u001B[1;32m    466\u001B[0m     copy \u001B[38;5;241m=\u001B[39m \u001B[38;5;28;01mFalse\u001B[39;00m\n\u001B[0;32m--> 468\u001B[0m \u001B[38;5;28;01mreturn\u001B[39;00m \u001B[38;5;28mself\u001B[39m\u001B[38;5;241m.\u001B[39mapply(\u001B[38;5;124m\"\u001B[39m\u001B[38;5;124mconvert\u001B[39m\u001B[38;5;124m\"\u001B[39m, copy\u001B[38;5;241m=\u001B[39mcopy, using_cow\u001B[38;5;241m=\u001B[39musing_copy_on_write())\n",
      "File \u001B[0;32m~/anaconda3/lib/python3.11/site-packages/pandas/core/internals/managers.py:352\u001B[0m, in \u001B[0;36mBaseBlockManager.apply\u001B[0;34m(self, f, align_keys, **kwargs)\u001B[0m\n\u001B[1;32m    350\u001B[0m         applied \u001B[38;5;241m=\u001B[39m b\u001B[38;5;241m.\u001B[39mapply(f, \u001B[38;5;241m*\u001B[39m\u001B[38;5;241m*\u001B[39mkwargs)\n\u001B[1;32m    351\u001B[0m     \u001B[38;5;28;01melse\u001B[39;00m:\n\u001B[0;32m--> 352\u001B[0m         applied \u001B[38;5;241m=\u001B[39m \u001B[38;5;28mgetattr\u001B[39m(b, f)(\u001B[38;5;241m*\u001B[39m\u001B[38;5;241m*\u001B[39mkwargs)\n\u001B[1;32m    353\u001B[0m     result_blocks \u001B[38;5;241m=\u001B[39m extend_blocks(applied, result_blocks)\n\u001B[1;32m    355\u001B[0m out \u001B[38;5;241m=\u001B[39m \u001B[38;5;28mtype\u001B[39m(\u001B[38;5;28mself\u001B[39m)\u001B[38;5;241m.\u001B[39mfrom_blocks(result_blocks, \u001B[38;5;28mself\u001B[39m\u001B[38;5;241m.\u001B[39maxes)\n",
      "File \u001B[0;32m~/anaconda3/lib/python3.11/site-packages/pandas/core/internals/blocks.py:139\u001B[0m, in \u001B[0;36mmaybe_split.<locals>.newfunc\u001B[0;34m(self, *args, **kwargs)\u001B[0m\n\u001B[1;32m    136\u001B[0m     \u001B[38;5;28;01mreturn\u001B[39;00m meth(\u001B[38;5;28mself\u001B[39m, \u001B[38;5;241m*\u001B[39margs, \u001B[38;5;241m*\u001B[39m\u001B[38;5;241m*\u001B[39mkwargs)\n\u001B[1;32m    137\u001B[0m \u001B[38;5;28;01melse\u001B[39;00m:\n\u001B[1;32m    138\u001B[0m     \u001B[38;5;66;03m# Split and operate column-by-column\u001B[39;00m\n\u001B[0;32m--> 139\u001B[0m     \u001B[38;5;28;01mreturn\u001B[39;00m \u001B[38;5;28mself\u001B[39m\u001B[38;5;241m.\u001B[39msplit_and_operate(meth, \u001B[38;5;241m*\u001B[39margs, \u001B[38;5;241m*\u001B[39m\u001B[38;5;241m*\u001B[39mkwargs)\n",
      "File \u001B[0;32m~/anaconda3/lib/python3.11/site-packages/pandas/core/internals/blocks.py:406\u001B[0m, in \u001B[0;36mBlock.split_and_operate\u001B[0;34m(self, func, *args, **kwargs)\u001B[0m\n\u001B[1;32m    404\u001B[0m res_blocks \u001B[38;5;241m=\u001B[39m []\n\u001B[1;32m    405\u001B[0m \u001B[38;5;28;01mfor\u001B[39;00m nb \u001B[38;5;129;01min\u001B[39;00m \u001B[38;5;28mself\u001B[39m\u001B[38;5;241m.\u001B[39m_split():\n\u001B[0;32m--> 406\u001B[0m     rbs \u001B[38;5;241m=\u001B[39m func(nb, \u001B[38;5;241m*\u001B[39margs, \u001B[38;5;241m*\u001B[39m\u001B[38;5;241m*\u001B[39mkwargs)\n\u001B[1;32m    407\u001B[0m     res_blocks\u001B[38;5;241m.\u001B[39mextend(rbs)\n\u001B[1;32m    408\u001B[0m \u001B[38;5;28;01mreturn\u001B[39;00m res_blocks\n",
      "File \u001B[0;32m~/anaconda3/lib/python3.11/site-packages/pandas/core/internals/blocks.py:2284\u001B[0m, in \u001B[0;36mObjectBlock.convert\u001B[0;34m(self, copy, using_cow)\u001B[0m\n\u001B[1;32m   2279\u001B[0m \u001B[38;5;28;01mif\u001B[39;00m values\u001B[38;5;241m.\u001B[39mndim \u001B[38;5;241m==\u001B[39m \u001B[38;5;241m2\u001B[39m:\n\u001B[1;32m   2280\u001B[0m     \u001B[38;5;66;03m# maybe_split ensures we only get here with values.shape[0] == 1,\u001B[39;00m\n\u001B[1;32m   2281\u001B[0m     \u001B[38;5;66;03m# avoid doing .ravel as that might make a copy\u001B[39;00m\n\u001B[1;32m   2282\u001B[0m     values \u001B[38;5;241m=\u001B[39m values[\u001B[38;5;241m0\u001B[39m]\n\u001B[0;32m-> 2284\u001B[0m res_values \u001B[38;5;241m=\u001B[39m lib\u001B[38;5;241m.\u001B[39mmaybe_convert_objects(\n\u001B[1;32m   2285\u001B[0m     values,\n\u001B[1;32m   2286\u001B[0m     convert_datetime\u001B[38;5;241m=\u001B[39m\u001B[38;5;28;01mTrue\u001B[39;00m,\n\u001B[1;32m   2287\u001B[0m     convert_timedelta\u001B[38;5;241m=\u001B[39m\u001B[38;5;28;01mTrue\u001B[39;00m,\n\u001B[1;32m   2288\u001B[0m     convert_period\u001B[38;5;241m=\u001B[39m\u001B[38;5;28;01mTrue\u001B[39;00m,\n\u001B[1;32m   2289\u001B[0m     convert_interval\u001B[38;5;241m=\u001B[39m\u001B[38;5;28;01mTrue\u001B[39;00m,\n\u001B[1;32m   2290\u001B[0m )\n\u001B[1;32m   2291\u001B[0m refs \u001B[38;5;241m=\u001B[39m \u001B[38;5;28;01mNone\u001B[39;00m\n\u001B[1;32m   2292\u001B[0m \u001B[38;5;28;01mif\u001B[39;00m copy \u001B[38;5;129;01mand\u001B[39;00m res_values \u001B[38;5;129;01mis\u001B[39;00m values:\n",
      "File \u001B[0;32m~/anaconda3/lib/python3.11/site-packages/pandas/_libs/lib.pyx:2445\u001B[0m, in \u001B[0;36mpandas._libs.lib.maybe_convert_objects\u001B[0;34m()\u001B[0m\n",
      "File \u001B[0;32m~/anaconda3/lib/python3.11/site-packages/numpy/core/numeric.py:274\u001B[0m, in \u001B[0;36mfull\u001B[0;34m(shape, fill_value, dtype, order, like)\u001B[0m\n\u001B[1;32m    270\u001B[0m \u001B[38;5;28;01mdef\u001B[39;00m \u001B[38;5;21m_full_dispatcher\u001B[39m(shape, fill_value, dtype\u001B[38;5;241m=\u001B[39m\u001B[38;5;28;01mNone\u001B[39;00m, order\u001B[38;5;241m=\u001B[39m\u001B[38;5;28;01mNone\u001B[39;00m, \u001B[38;5;241m*\u001B[39m, like\u001B[38;5;241m=\u001B[39m\u001B[38;5;28;01mNone\u001B[39;00m):\n\u001B[1;32m    271\u001B[0m     \u001B[38;5;28;01mreturn\u001B[39;00m(like,)\n\u001B[0;32m--> 274\u001B[0m \u001B[38;5;129m@set_array_function_like_doc\u001B[39m\n\u001B[1;32m    275\u001B[0m \u001B[38;5;129m@set_module\u001B[39m(\u001B[38;5;124m'\u001B[39m\u001B[38;5;124mnumpy\u001B[39m\u001B[38;5;124m'\u001B[39m)\n\u001B[1;32m    276\u001B[0m \u001B[38;5;28;01mdef\u001B[39;00m \u001B[38;5;21mfull\u001B[39m(shape, fill_value, dtype\u001B[38;5;241m=\u001B[39m\u001B[38;5;28;01mNone\u001B[39;00m, order\u001B[38;5;241m=\u001B[39m\u001B[38;5;124m'\u001B[39m\u001B[38;5;124mC\u001B[39m\u001B[38;5;124m'\u001B[39m, \u001B[38;5;241m*\u001B[39m, like\u001B[38;5;241m=\u001B[39m\u001B[38;5;28;01mNone\u001B[39;00m):\n\u001B[1;32m    277\u001B[0m \u001B[38;5;250m    \u001B[39m\u001B[38;5;124;03m\"\"\"\u001B[39;00m\n\u001B[1;32m    278\u001B[0m \u001B[38;5;124;03m    Return a new array of given shape and type, filled with `fill_value`.\u001B[39;00m\n\u001B[1;32m    279\u001B[0m \n\u001B[0;32m   (...)\u001B[0m\n\u001B[1;32m    320\u001B[0m \n\u001B[1;32m    321\u001B[0m \u001B[38;5;124;03m    \"\"\"\u001B[39;00m\n\u001B[1;32m    322\u001B[0m     \u001B[38;5;28;01mif\u001B[39;00m like \u001B[38;5;129;01mis\u001B[39;00m \u001B[38;5;129;01mnot\u001B[39;00m \u001B[38;5;28;01mNone\u001B[39;00m:\n",
      "\u001B[0;31mKeyboardInterrupt\u001B[0m: "
     ]
    }
   ],
   "source": [
    "data_df = load_kiloword_metadata(Config().DATATXT)"
   ],
   "metadata": {
    "collapsed": false,
    "ExecuteTime": {
     "end_time": "2024-06-03T11:51:36.896295269Z",
     "start_time": "2024-06-03T11:51:08.577565873Z"
    }
   }
  },
  {
   "cell_type": "code",
   "execution_count": 8,
   "outputs": [
    {
     "name": "stdout",
     "output_type": "stream",
     "text": [
      "Reading /home/viki/mne_data/MNE-kiloword-data/kword_metadata-epo.fif ...\n",
      "Isotrak not found\n",
      "    Found the data of interest:\n",
      "        t =    -100.00 ...     920.00 ms\n",
      "        0 CTF compensation matrices available\n",
      "Adding metadata with 8 columns\n",
      "960 matching events found\n",
      "No baseline correction applied\n",
      "0 projection items activated\n"
     ]
    }
   ],
   "source": [
    "data = load_data_from_fif()"
   ],
   "metadata": {
    "collapsed": false,
    "ExecuteTime": {
     "end_time": "2024-06-03T11:51:47.218123287Z",
     "start_time": "2024-06-03T11:51:47.074905303Z"
    }
   }
  },
  {
   "cell_type": "code",
   "execution_count": 12,
   "outputs": [
    {
     "name": "stdout",
     "output_type": "stream",
     "text": [
      "Index  0\n",
      "Index  50\n",
      "Index  100\n",
      "Index  150\n",
      "Index  200\n",
      "Index  250\n",
      "Index  300\n",
      "Index  350\n",
      "Index  400\n",
      "Index  450\n",
      "Index  500\n",
      "Index  550\n",
      "Index  600\n",
      "Index  650\n",
      "Index  700\n",
      "Index  750\n",
      "Index  800\n",
      "Index  850\n",
      "Index  900\n",
      "Index  950\n",
      "Index  1000\n",
      "Index  1050\n",
      "Index  1100\n",
      "Index  1150\n",
      "Index  1200\n",
      "Index  1250\n",
      "Index  1300\n",
      "Index  1350\n",
      "Index  1400\n",
      "Index  1450\n",
      "Index  1500\n",
      "Index  1550\n",
      "Index  1600\n",
      "Index  1650\n",
      "Index  1700\n",
      "Index  1750\n",
      "Index  1800\n",
      "Index  1850\n",
      "Index  1900\n",
      "Index  1950\n",
      "Index  2000\n",
      "Index  2050\n",
      "Index  2100\n",
      "Index  2150\n",
      "Index  2200\n",
      "Index  2250\n",
      "Index  2300\n",
      "Index  2350\n",
      "Index  2400\n",
      "Index  2450\n",
      "Index  2500\n",
      "Index  2550\n",
      "Index  2600\n",
      "Index  2650\n",
      "Index  2700\n",
      "Index  2750\n",
      "Index  2800\n",
      "Index  2850\n",
      "Index  2900\n",
      "Index  2950\n",
      "Index  3000\n",
      "Index  3050\n",
      "Index  3100\n",
      "Index  3150\n",
      "Index  3200\n",
      "Index  3250\n",
      "Index  3300\n",
      "Index  3350\n",
      "Index  3400\n",
      "Index  3450\n",
      "Index  3500\n",
      "Index  3550\n",
      "Index  3600\n",
      "Index  3650\n",
      "Index  3700\n",
      "Index  3750\n",
      "Index  3800\n",
      "Index  3850\n",
      "Index  3900\n",
      "Index  3950\n",
      "Index  4000\n",
      "Index  4050\n",
      "Index  4100\n",
      "Index  4150\n",
      "Index  4200\n",
      "Index  4250\n",
      "Index  4300\n",
      "Index  4350\n",
      "Index  4400\n",
      "Index  4450\n",
      "Index  4500\n",
      "Index  4550\n",
      "Index  4600\n",
      "Index  4650\n",
      "Index  4700\n",
      "Index  4750\n",
      "Index  4800\n",
      "Index  4850\n",
      "Index  4900\n",
      "Index  4950\n",
      "Index  5000\n",
      "Index  5050\n",
      "Index  5100\n",
      "Index  5150\n",
      "Index  5200\n",
      "Index  5250\n",
      "Index  5300\n",
      "Index  5350\n",
      "Index  5400\n",
      "Index  5450\n",
      "Index  5500\n",
      "Index  5550\n",
      "Index  5600\n",
      "Index  5650\n",
      "Index  5700\n",
      "Index  5750\n",
      "Index  5800\n",
      "Index  5850\n",
      "Index  5900\n",
      "Index  5950\n",
      "Index  6000\n",
      "Index  6050\n"
     ]
    },
    {
     "ename": "KeyboardInterrupt",
     "evalue": "",
     "output_type": "error",
     "traceback": [
      "\u001B[0;31m---------------------------------------------------------------------------\u001B[0m",
      "\u001B[0;31mKeyboardInterrupt\u001B[0m                         Traceback (most recent call last)",
      "Cell \u001B[0;32mIn[12], line 8\u001B[0m\n\u001B[1;32m      6\u001B[0m     \u001B[38;5;28mprint\u001B[39m(\u001B[38;5;124m\"\u001B[39m\u001B[38;5;124mIndex \u001B[39m\u001B[38;5;124m\"\u001B[39m, j)\n\u001B[1;32m      7\u001B[0m data \u001B[38;5;241m=\u001B[39m line\u001B[38;5;241m.\u001B[39mstrip()\u001B[38;5;241m.\u001B[39msplit()\n\u001B[0;32m----> 8\u001B[0m data_df\u001B[38;5;241m.\u001B[39mloc[\u001B[38;5;28mlen\u001B[39m(data_df)] \u001B[38;5;241m=\u001B[39m data\n",
      "File \u001B[0;32m~/anaconda3/lib/python3.11/site-packages/pandas/core/indexing.py:849\u001B[0m, in \u001B[0;36m_LocationIndexer.__setitem__\u001B[0;34m(self, key, value)\u001B[0m\n\u001B[1;32m    846\u001B[0m \u001B[38;5;28mself\u001B[39m\u001B[38;5;241m.\u001B[39m_has_valid_setitem_indexer(key)\n\u001B[1;32m    848\u001B[0m iloc \u001B[38;5;241m=\u001B[39m \u001B[38;5;28mself\u001B[39m \u001B[38;5;28;01mif\u001B[39;00m \u001B[38;5;28mself\u001B[39m\u001B[38;5;241m.\u001B[39mname \u001B[38;5;241m==\u001B[39m \u001B[38;5;124m\"\u001B[39m\u001B[38;5;124miloc\u001B[39m\u001B[38;5;124m\"\u001B[39m \u001B[38;5;28;01melse\u001B[39;00m \u001B[38;5;28mself\u001B[39m\u001B[38;5;241m.\u001B[39mobj\u001B[38;5;241m.\u001B[39miloc\n\u001B[0;32m--> 849\u001B[0m iloc\u001B[38;5;241m.\u001B[39m_setitem_with_indexer(indexer, value, \u001B[38;5;28mself\u001B[39m\u001B[38;5;241m.\u001B[39mname)\n",
      "File \u001B[0;32m~/anaconda3/lib/python3.11/site-packages/pandas/core/indexing.py:1825\u001B[0m, in \u001B[0;36m_iLocIndexer._setitem_with_indexer\u001B[0;34m(self, indexer, value, name)\u001B[0m\n\u001B[1;32m   1822\u001B[0m     indexer, missing \u001B[38;5;241m=\u001B[39m convert_missing_indexer(indexer)\n\u001B[1;32m   1824\u001B[0m     \u001B[38;5;28;01mif\u001B[39;00m missing:\n\u001B[0;32m-> 1825\u001B[0m         \u001B[38;5;28mself\u001B[39m\u001B[38;5;241m.\u001B[39m_setitem_with_indexer_missing(indexer, value)\n\u001B[1;32m   1826\u001B[0m         \u001B[38;5;28;01mreturn\u001B[39;00m\n\u001B[1;32m   1828\u001B[0m \u001B[38;5;28;01mif\u001B[39;00m name \u001B[38;5;241m==\u001B[39m \u001B[38;5;124m\"\u001B[39m\u001B[38;5;124mloc\u001B[39m\u001B[38;5;124m\"\u001B[39m:\n\u001B[1;32m   1829\u001B[0m     \u001B[38;5;66;03m# must come after setting of missing\u001B[39;00m\n",
      "File \u001B[0;32m~/anaconda3/lib/python3.11/site-packages/pandas/core/indexing.py:2180\u001B[0m, in \u001B[0;36m_iLocIndexer._setitem_with_indexer_missing\u001B[0;34m(self, indexer, value)\u001B[0m\n\u001B[1;32m   2178\u001B[0m     \u001B[38;5;28mself\u001B[39m\u001B[38;5;241m.\u001B[39mobj\u001B[38;5;241m.\u001B[39m_mgr \u001B[38;5;241m=\u001B[39m df\u001B[38;5;241m.\u001B[39m_mgr\n\u001B[1;32m   2179\u001B[0m \u001B[38;5;28;01melse\u001B[39;00m:\n\u001B[0;32m-> 2180\u001B[0m     \u001B[38;5;28mself\u001B[39m\u001B[38;5;241m.\u001B[39mobj\u001B[38;5;241m.\u001B[39m_mgr \u001B[38;5;241m=\u001B[39m \u001B[38;5;28mself\u001B[39m\u001B[38;5;241m.\u001B[39mobj\u001B[38;5;241m.\u001B[39m_append(value)\u001B[38;5;241m.\u001B[39m_mgr\n\u001B[1;32m   2181\u001B[0m \u001B[38;5;28mself\u001B[39m\u001B[38;5;241m.\u001B[39mobj\u001B[38;5;241m.\u001B[39m_maybe_update_cacher(clear\u001B[38;5;241m=\u001B[39m\u001B[38;5;28;01mTrue\u001B[39;00m)\n",
      "File \u001B[0;32m~/anaconda3/lib/python3.11/site-packages/pandas/core/frame.py:9558\u001B[0m, in \u001B[0;36mDataFrame._append\u001B[0;34m(self, other, ignore_index, verify_integrity, sort)\u001B[0m\n\u001B[1;32m   9555\u001B[0m \u001B[38;5;28;01melse\u001B[39;00m:\n\u001B[1;32m   9556\u001B[0m     to_concat \u001B[38;5;241m=\u001B[39m [\u001B[38;5;28mself\u001B[39m, other]\n\u001B[0;32m-> 9558\u001B[0m result \u001B[38;5;241m=\u001B[39m concat(\n\u001B[1;32m   9559\u001B[0m     to_concat,\n\u001B[1;32m   9560\u001B[0m     ignore_index\u001B[38;5;241m=\u001B[39mignore_index,\n\u001B[1;32m   9561\u001B[0m     verify_integrity\u001B[38;5;241m=\u001B[39mverify_integrity,\n\u001B[1;32m   9562\u001B[0m     sort\u001B[38;5;241m=\u001B[39msort,\n\u001B[1;32m   9563\u001B[0m )\n\u001B[1;32m   9564\u001B[0m \u001B[38;5;28;01mreturn\u001B[39;00m result\u001B[38;5;241m.\u001B[39m__finalize__(\u001B[38;5;28mself\u001B[39m, method\u001B[38;5;241m=\u001B[39m\u001B[38;5;124m\"\u001B[39m\u001B[38;5;124mappend\u001B[39m\u001B[38;5;124m\"\u001B[39m)\n",
      "File \u001B[0;32m~/anaconda3/lib/python3.11/site-packages/pandas/core/reshape/concat.py:385\u001B[0m, in \u001B[0;36mconcat\u001B[0;34m(objs, axis, join, ignore_index, keys, levels, names, verify_integrity, sort, copy)\u001B[0m\n\u001B[1;32m    370\u001B[0m     copy \u001B[38;5;241m=\u001B[39m \u001B[38;5;28;01mFalse\u001B[39;00m\n\u001B[1;32m    372\u001B[0m op \u001B[38;5;241m=\u001B[39m _Concatenator(\n\u001B[1;32m    373\u001B[0m     objs,\n\u001B[1;32m    374\u001B[0m     axis\u001B[38;5;241m=\u001B[39maxis,\n\u001B[0;32m   (...)\u001B[0m\n\u001B[1;32m    382\u001B[0m     sort\u001B[38;5;241m=\u001B[39msort,\n\u001B[1;32m    383\u001B[0m )\n\u001B[0;32m--> 385\u001B[0m \u001B[38;5;28;01mreturn\u001B[39;00m op\u001B[38;5;241m.\u001B[39mget_result()\n",
      "File \u001B[0;32m~/anaconda3/lib/python3.11/site-packages/pandas/core/reshape/concat.py:616\u001B[0m, in \u001B[0;36m_Concatenator.get_result\u001B[0;34m(self)\u001B[0m\n\u001B[1;32m    612\u001B[0m             indexers[ax] \u001B[38;5;241m=\u001B[39m obj_labels\u001B[38;5;241m.\u001B[39mget_indexer(new_labels)\n\u001B[1;32m    614\u001B[0m     mgrs_indexers\u001B[38;5;241m.\u001B[39mappend((obj\u001B[38;5;241m.\u001B[39m_mgr, indexers))\n\u001B[0;32m--> 616\u001B[0m new_data \u001B[38;5;241m=\u001B[39m concatenate_managers(\n\u001B[1;32m    617\u001B[0m     mgrs_indexers, \u001B[38;5;28mself\u001B[39m\u001B[38;5;241m.\u001B[39mnew_axes, concat_axis\u001B[38;5;241m=\u001B[39m\u001B[38;5;28mself\u001B[39m\u001B[38;5;241m.\u001B[39mbm_axis, copy\u001B[38;5;241m=\u001B[39m\u001B[38;5;28mself\u001B[39m\u001B[38;5;241m.\u001B[39mcopy\n\u001B[1;32m    618\u001B[0m )\n\u001B[1;32m    619\u001B[0m \u001B[38;5;28;01mif\u001B[39;00m \u001B[38;5;129;01mnot\u001B[39;00m \u001B[38;5;28mself\u001B[39m\u001B[38;5;241m.\u001B[39mcopy \u001B[38;5;129;01mand\u001B[39;00m \u001B[38;5;129;01mnot\u001B[39;00m using_copy_on_write():\n\u001B[1;32m    620\u001B[0m     new_data\u001B[38;5;241m.\u001B[39m_consolidate_inplace()\n",
      "File \u001B[0;32m~/anaconda3/lib/python3.11/site-packages/pandas/core/internals/concat.py:208\u001B[0m, in \u001B[0;36mconcatenate_managers\u001B[0;34m(mgrs_indexers, axes, concat_axis, copy)\u001B[0m\n\u001B[1;32m    204\u001B[0m     \u001B[38;5;28;01mreturn\u001B[39;00m _concat_managers_axis0(mgrs_indexers, axes, copy)\n\u001B[1;32m    206\u001B[0m mgrs_indexers \u001B[38;5;241m=\u001B[39m _maybe_reindex_columns_na_proxy(axes, mgrs_indexers)\n\u001B[0;32m--> 208\u001B[0m concat_plans \u001B[38;5;241m=\u001B[39m [\n\u001B[1;32m    209\u001B[0m     _get_mgr_concatenation_plan(mgr, indexers) \u001B[38;5;28;01mfor\u001B[39;00m mgr, indexers \u001B[38;5;129;01min\u001B[39;00m mgrs_indexers\n\u001B[1;32m    210\u001B[0m ]\n\u001B[1;32m    211\u001B[0m concat_plan \u001B[38;5;241m=\u001B[39m _combine_concat_plans(concat_plans)\n\u001B[1;32m    212\u001B[0m blocks \u001B[38;5;241m=\u001B[39m []\n",
      "File \u001B[0;32m~/anaconda3/lib/python3.11/site-packages/pandas/core/internals/concat.py:209\u001B[0m, in \u001B[0;36m<listcomp>\u001B[0;34m(.0)\u001B[0m\n\u001B[1;32m    204\u001B[0m     \u001B[38;5;28;01mreturn\u001B[39;00m _concat_managers_axis0(mgrs_indexers, axes, copy)\n\u001B[1;32m    206\u001B[0m mgrs_indexers \u001B[38;5;241m=\u001B[39m _maybe_reindex_columns_na_proxy(axes, mgrs_indexers)\n\u001B[1;32m    208\u001B[0m concat_plans \u001B[38;5;241m=\u001B[39m [\n\u001B[0;32m--> 209\u001B[0m     _get_mgr_concatenation_plan(mgr, indexers) \u001B[38;5;28;01mfor\u001B[39;00m mgr, indexers \u001B[38;5;129;01min\u001B[39;00m mgrs_indexers\n\u001B[1;32m    210\u001B[0m ]\n\u001B[1;32m    211\u001B[0m concat_plan \u001B[38;5;241m=\u001B[39m _combine_concat_plans(concat_plans)\n\u001B[1;32m    212\u001B[0m blocks \u001B[38;5;241m=\u001B[39m []\n",
      "File \u001B[0;32m~/anaconda3/lib/python3.11/site-packages/pandas/core/internals/concat.py:391\u001B[0m, in \u001B[0;36m_get_mgr_concatenation_plan\u001B[0;34m(mgr, indexers)\u001B[0m\n\u001B[1;32m    388\u001B[0m     \u001B[38;5;28;01melse\u001B[39;00m:\n\u001B[1;32m    389\u001B[0m         join_unit_indexers[\u001B[38;5;241m0\u001B[39m] \u001B[38;5;241m=\u001B[39m ax0_blk_indexer\n\u001B[0;32m--> 391\u001B[0m     unit \u001B[38;5;241m=\u001B[39m JoinUnit(blk, shape, join_unit_indexers)\n\u001B[1;32m    393\u001B[0m     plan\u001B[38;5;241m.\u001B[39mappend((placements, unit))\n\u001B[1;32m    395\u001B[0m \u001B[38;5;28;01mreturn\u001B[39;00m plan\n",
      "File \u001B[0;32m~/anaconda3/lib/python3.11/site-packages/pandas/core/internals/concat.py:399\u001B[0m, in \u001B[0;36mJoinUnit.__init__\u001B[0;34m(self, block, shape, indexers)\u001B[0m\n\u001B[1;32m    398\u001B[0m \u001B[38;5;28;01mclass\u001B[39;00m \u001B[38;5;21;01mJoinUnit\u001B[39;00m:\n\u001B[0;32m--> 399\u001B[0m     \u001B[38;5;28;01mdef\u001B[39;00m \u001B[38;5;21m__init__\u001B[39m(\u001B[38;5;28mself\u001B[39m, block: Block, shape: Shape, indexers\u001B[38;5;241m=\u001B[39m\u001B[38;5;28;01mNone\u001B[39;00m) \u001B[38;5;241m-\u001B[39m\u001B[38;5;241m>\u001B[39m \u001B[38;5;28;01mNone\u001B[39;00m:\n\u001B[1;32m    400\u001B[0m         \u001B[38;5;66;03m# Passing shape explicitly is required for cases when block is None.\u001B[39;00m\n\u001B[1;32m    401\u001B[0m         \u001B[38;5;66;03m# Note: block is None implies indexers is None, but not vice-versa\u001B[39;00m\n\u001B[1;32m    402\u001B[0m         \u001B[38;5;28;01mif\u001B[39;00m indexers \u001B[38;5;129;01mis\u001B[39;00m \u001B[38;5;28;01mNone\u001B[39;00m:\n\u001B[1;32m    403\u001B[0m             indexers \u001B[38;5;241m=\u001B[39m {}\n",
      "\u001B[0;31mKeyboardInterrupt\u001B[0m: "
     ]
    }
   ],
   "source": [
    "metadata = open(Config().DATATXT, \"r\")\n",
    "columns = metadata.readline().strip().split()\n",
    "data_df = pd.DataFrame(columns=columns)\n",
    "for j, line in enumerate(metadata.readlines()):\n",
    "    if j % 50 == 0:\n",
    "        print(\"Index \", j)\n",
    "    data = line.strip().split()\n",
    "    data_df.loc[len(data_df)] = data\n"
   ],
   "metadata": {
    "collapsed": false,
    "ExecuteTime": {
     "end_time": "2024-06-03T11:57:01.556476455Z",
     "start_time": "2024-06-03T11:53:56.876878348Z"
    }
   }
  },
  {
   "cell_type": "code",
   "execution_count": 13,
   "outputs": [
    {
     "data": {
      "text/plain": "   WORD#  WORD  ELEC# ELECNAME    -100ms     -96ms     -92ms     -88ms  \\\n0  WORD1  film  ELEC1     REJ1  0.198182  0.385455  0.557576  0.694091   \n1  WORD1  film  ELEC2     REJ2  0.129091  0.209545  0.260758  0.268939   \n2  WORD1  film  ELEC3     REJ3  0.054545  0.067273  0.056212  0.026818   \n3  WORD1  film  ELEC4       Fz  0.421970  0.453939  0.465606  0.468182   \n4  WORD1  film  ELEC5       Cz  0.251970  0.232879  0.194242  0.158939   \n\n      -84ms     -80ms  ...     884ms     888ms     892ms     896ms     900ms  \\\n0  0.784545  0.813788  ... -3.252424 -3.196970 -3.107121 -3.004242 -2.897424   \n1  0.244697  0.200152  ... -1.348333 -1.282879 -1.198182 -1.118485 -1.030000   \n2 -0.012879 -0.052424  ... -0.656667 -0.598788 -0.549848 -0.527727 -0.533939   \n3  0.483485  0.518939  ...  0.451667  0.690000  0.926364  1.147576  1.354091   \n4  0.159242  0.214091  ...  1.160152  1.391364  1.627273  1.854242  2.066364   \n\n      904ms     908ms     912ms     916ms     920ms  \n0 -2.774697 -2.613636 -2.405909 -2.179697 -1.965758  \n1 -0.900909 -0.711515 -0.473030 -0.214697  0.024848  \n2 -0.559545 -0.607121 -0.676818 -0.760909 -0.841061  \n3  1.553485  1.747121  1.927879  2.080303  2.199697  \n4  2.262273  2.437273  2.585152  2.705606  2.801364  \n\n[5 rows x 260 columns]",
      "text/html": "<div>\n<style scoped>\n    .dataframe tbody tr th:only-of-type {\n        vertical-align: middle;\n    }\n\n    .dataframe tbody tr th {\n        vertical-align: top;\n    }\n\n    .dataframe thead th {\n        text-align: right;\n    }\n</style>\n<table border=\"1\" class=\"dataframe\">\n  <thead>\n    <tr style=\"text-align: right;\">\n      <th></th>\n      <th>WORD#</th>\n      <th>WORD</th>\n      <th>ELEC#</th>\n      <th>ELECNAME</th>\n      <th>-100ms</th>\n      <th>-96ms</th>\n      <th>-92ms</th>\n      <th>-88ms</th>\n      <th>-84ms</th>\n      <th>-80ms</th>\n      <th>...</th>\n      <th>884ms</th>\n      <th>888ms</th>\n      <th>892ms</th>\n      <th>896ms</th>\n      <th>900ms</th>\n      <th>904ms</th>\n      <th>908ms</th>\n      <th>912ms</th>\n      <th>916ms</th>\n      <th>920ms</th>\n    </tr>\n  </thead>\n  <tbody>\n    <tr>\n      <th>0</th>\n      <td>WORD1</td>\n      <td>film</td>\n      <td>ELEC1</td>\n      <td>REJ1</td>\n      <td>0.198182</td>\n      <td>0.385455</td>\n      <td>0.557576</td>\n      <td>0.694091</td>\n      <td>0.784545</td>\n      <td>0.813788</td>\n      <td>...</td>\n      <td>-3.252424</td>\n      <td>-3.196970</td>\n      <td>-3.107121</td>\n      <td>-3.004242</td>\n      <td>-2.897424</td>\n      <td>-2.774697</td>\n      <td>-2.613636</td>\n      <td>-2.405909</td>\n      <td>-2.179697</td>\n      <td>-1.965758</td>\n    </tr>\n    <tr>\n      <th>1</th>\n      <td>WORD1</td>\n      <td>film</td>\n      <td>ELEC2</td>\n      <td>REJ2</td>\n      <td>0.129091</td>\n      <td>0.209545</td>\n      <td>0.260758</td>\n      <td>0.268939</td>\n      <td>0.244697</td>\n      <td>0.200152</td>\n      <td>...</td>\n      <td>-1.348333</td>\n      <td>-1.282879</td>\n      <td>-1.198182</td>\n      <td>-1.118485</td>\n      <td>-1.030000</td>\n      <td>-0.900909</td>\n      <td>-0.711515</td>\n      <td>-0.473030</td>\n      <td>-0.214697</td>\n      <td>0.024848</td>\n    </tr>\n    <tr>\n      <th>2</th>\n      <td>WORD1</td>\n      <td>film</td>\n      <td>ELEC3</td>\n      <td>REJ3</td>\n      <td>0.054545</td>\n      <td>0.067273</td>\n      <td>0.056212</td>\n      <td>0.026818</td>\n      <td>-0.012879</td>\n      <td>-0.052424</td>\n      <td>...</td>\n      <td>-0.656667</td>\n      <td>-0.598788</td>\n      <td>-0.549848</td>\n      <td>-0.527727</td>\n      <td>-0.533939</td>\n      <td>-0.559545</td>\n      <td>-0.607121</td>\n      <td>-0.676818</td>\n      <td>-0.760909</td>\n      <td>-0.841061</td>\n    </tr>\n    <tr>\n      <th>3</th>\n      <td>WORD1</td>\n      <td>film</td>\n      <td>ELEC4</td>\n      <td>Fz</td>\n      <td>0.421970</td>\n      <td>0.453939</td>\n      <td>0.465606</td>\n      <td>0.468182</td>\n      <td>0.483485</td>\n      <td>0.518939</td>\n      <td>...</td>\n      <td>0.451667</td>\n      <td>0.690000</td>\n      <td>0.926364</td>\n      <td>1.147576</td>\n      <td>1.354091</td>\n      <td>1.553485</td>\n      <td>1.747121</td>\n      <td>1.927879</td>\n      <td>2.080303</td>\n      <td>2.199697</td>\n    </tr>\n    <tr>\n      <th>4</th>\n      <td>WORD1</td>\n      <td>film</td>\n      <td>ELEC5</td>\n      <td>Cz</td>\n      <td>0.251970</td>\n      <td>0.232879</td>\n      <td>0.194242</td>\n      <td>0.158939</td>\n      <td>0.159242</td>\n      <td>0.214091</td>\n      <td>...</td>\n      <td>1.160152</td>\n      <td>1.391364</td>\n      <td>1.627273</td>\n      <td>1.854242</td>\n      <td>2.066364</td>\n      <td>2.262273</td>\n      <td>2.437273</td>\n      <td>2.585152</td>\n      <td>2.705606</td>\n      <td>2.801364</td>\n    </tr>\n  </tbody>\n</table>\n<p>5 rows × 260 columns</p>\n</div>"
     },
     "execution_count": 13,
     "metadata": {},
     "output_type": "execute_result"
    }
   ],
   "source": [
    "data = pd.read_csv(Config().MNE_PATH / \"KWORD_ERP_LEXICAL_DECISION_DGMH2015.csv\")\n",
    "data.head()"
   ],
   "metadata": {
    "collapsed": false,
    "ExecuteTime": {
     "end_time": "2024-06-03T13:03:31.164729514Z",
     "start_time": "2024-06-03T13:03:30.568907347Z"
    }
   }
  },
  {
   "cell_type": "code",
   "execution_count": 53,
   "outputs": [],
   "source": [
    "list_words = pd.unique(data[\"WORD\"])\n",
    "grouped_data = data.groupby(\"WORD\")\n",
    "list_eegs = []\n",
    "for word in list_words:\n",
    "    da = grouped_data.get_group(word)\n",
    "    da = da[~da['ELECNAME'].isin([\"REJ1\", \"REJ2\", \"REJ3\"])]#.drop(columns=['WORD#', 'WORD', 'ELEC#', 'ELECNAME'])\n",
    "    d = da.drop(columns=['WORD#', 'WORD', 'ELEC#', 'ELECNAME']).to_numpy()\n",
    "    list_eegs.append(d)"
   ],
   "metadata": {
    "collapsed": false,
    "ExecuteTime": {
     "end_time": "2024-06-03T13:51:26.801700185Z",
     "start_time": "2024-06-03T13:51:26.409320379Z"
    }
   }
  },
  {
   "cell_type": "code",
   "execution_count": 54,
   "outputs": [],
   "source": [
    "eegs = np.stack(list_eegs)"
   ],
   "metadata": {
    "collapsed": false,
    "ExecuteTime": {
     "end_time": "2024-06-03T13:51:45.120690802Z",
     "start_time": "2024-06-03T13:51:45.072788563Z"
    }
   }
  },
  {
   "cell_type": "code",
   "execution_count": 55,
   "outputs": [
    {
     "data": {
      "text/plain": "(960, 29, 256)"
     },
     "execution_count": 55,
     "metadata": {},
     "output_type": "execute_result"
    }
   ],
   "source": [
    "eegs.shape"
   ],
   "metadata": {
    "collapsed": false,
    "ExecuteTime": {
     "end_time": "2024-06-03T13:51:46.241248675Z",
     "start_time": "2024-06-03T13:51:46.234642244Z"
    }
   }
  },
  {
   "cell_type": "code",
   "execution_count": 32,
   "outputs": [
    {
     "data": {
      "text/plain": "array(['film', 'cent', 'shot', 'cold', 'main', 'poet', 'case', 'land',\n       'idea', 'love', 'role', 'hall', 'safe', 'pope', 'suit', 'evil',\n       'roof', 'wind', 'seat', 'pale', 'duty', 'inch', 'snow', 'site',\n       'dome', 'golf', 'boil', 'gaze', 'bone', 'yarn', 'gift', 'pump',\n       'trap', 'harm', 'beer', 'buzz', 'bait', 'clan', 'rift', 'jerk',\n       'skit', 'dune', 'flop', 'drip', 'slat', 'moot', 'feud', 'coax',\n       'issue', 'basis', 'peace', 'trial', 'least', 'green', 'daily',\n       'scene', 'party', 'thing', 'price', 'piece', 'beach', 'unity',\n       'chair', 'rifle', 'uncle', 'smoke', 'dream', 'crowd', 'theme',\n       'wagon', 'empty', 'wheel', 'storm', 'actor', 'purse', 'chaos',\n       'blade', 'sheer', 'bench', 'suite', 'cycle', 'shade', 'radar',\n       'creek', 'tango', 'briar', 'patio', 'polka', 'jiffy', 'cameo',\n       'felon', 'filth', 'druid', 'sprig', 'spout', 'snout', 'source',\n       'mother', 'common', 'father', 'theory', 'effect', 'dinner',\n       'growth', 'friend', 'nature', 'couple', 'county', 'throat',\n       'nobody', 'crisis', 'motion', 'valley', 'memory', 'artist',\n       'engine', 'player', 'estate', 'murder', 'danger', 'genius',\n       'remark', 'resort', 'camera', 'saddle', 'walnut', 'violin',\n       'virtue', 'toilet', 'hunger', 'sleeve', 'census', 'blight',\n       'homage', 'faucet', 'deceit', 'morgue', 'malice', 'groove',\n       'safari', 'dynamo', 'asylum', 'nebula', 'squash', 'purpose',\n       'section', 'private', 'century', 'council', 'service', 'million',\n       'account', 'example', 'concern', 'husband', 'respect', 'highway',\n       'uniform', 'silence', 'session', 'extreme', 'perfect', 'expense',\n       'journal', 'tension', 'welfare', 'disease', 'absence', 'courage',\n       'hormone', 'acreage', 'embrace', 'channel', 'lecture', 'ceiling',\n       'crystal', 'gentile', 'pension', 'suicide', 'academy', 'modicum',\n       'pumpkin', 'corsage', 'sarcasm', 'infidel', 'primate', 'quibble',\n       'heretic', 'default', 'cuisine', 'vaccine', 'duchess', 'evidence',\n       'practice', 'complete', 'director', 'attitude', 'distance',\n       'property', 'standing', 'personal', 'reaction', 'southern',\n       'position', 'election', 'chairman', 'japanese', 'governor',\n       'capacity', 'approval', 'identity', 'instance', 'valuable',\n       'diameter', 'majority', 'exercise', 'appetite', 'singular',\n       'prestige', 'theology', 'abstract', 'midnight', 'variable',\n       'currency', 'cylinder', 'vitality', 'document', 'adoption',\n       'disarray', 'limerick', 'fruition', 'easement', 'interact',\n       'cosmetic', 'crucible', 'skeleton', 'tentacle', 'modality',\n       'warranty', 'scenario', 'sign', 'hope', 'clay', 'data', 'book',\n       'army', 'mind', 'none', 'blue', 'area', 'park', 'fear', 'papa',\n       'milk', 'band', 'wood', 'dust', 'baby', 'tone', 'rain', 'hole',\n       'tool', 'poem', 'trip', 'pine', 'limp', 'aunt', 'dash', 'whip',\n       'drug', 'ford', 'hank', 'fate', 'pack', 'crew', 'shed', 'lull',\n       'duet', 'bran', 'crux', 'gout', 'gird', 'hash', 'whiz', 'pout',\n       'sage', 'orgy', 'claw', 'space', 'press', 'table', 'board',\n       'image', 'reach', 'glass', 'stock', 'mouth', 'wrong', 'plant',\n       'child', 'guess', 'coast', 'extra', 'angle', 'grant', 'enemy',\n       'clean', 'proof', 'event', 'ideal', 'rough', 'flesh', 'honey',\n       'haven', 'stray', 'grave', 'waist', 'giant', 'error', 'slave',\n       'virus', 'couch', 'trail', 'straw', 'tonic', 'miner', 'crypt',\n       'cramp', 'fluke', 'rogue', 'lasso', 'squaw', 'poesy', 'grail',\n       'curry', 'flail', 'future', 'spring', 'figure', 'chance', 'summer',\n       'change', 'reason', 'corner', 'method', 'health', 'spirit',\n       'person', 'marine', 'credit', 'forest', 'advice', 'poetry',\n       'author', 'budget', 'handle', 'agency', 'rising', 'battle',\n       'tissue', 'temper', 'pencil', 'hazard', 'butter', 'cement',\n       'horror', 'infant', 'shadow', 'ghetto', 'excuse', 'ballot',\n       'shower', 'bodice', 'fright', 'vortex', 'mentor', 'casino',\n       'canopy', 'hearse', 'trench', 'stigma', 'felony', 'blazer',\n       'umpire', 'process', 'company', 'success', 'primary', 'meeting',\n       'station', 'despite', 'justice', 'current', 'forward', 'writing',\n       'meaning', 'element', 'storage', 'display', 'advance', 'traffic',\n       'content', 'mention', 'welcome', 'chinese', 'senator', 'payment',\n       'library', 'lighter', 'neglect', 'despair', 'stretch', 'reverse',\n       'nursery', 'textile', 'abandon', 'inquiry', 'transit', 'transom',\n       'charter', 'eclipse', 'discord', 'leprosy', 'blemish', 'cascade',\n       'embargo', 'consort', 'tantrum', 'sapling', 'gourmet', 'algebra',\n       'alimony', 'addition', 'pressure', 'possible', 'material',\n       'marriage', 'decision', 'hospital', 'standard', 'language',\n       'audience', 'increase', 'continue', 'response', 'relation',\n       'occasion', 'superior', 'conflict', 'assembly', 'campaign',\n       'catholic', 'attorney', 'contrast', 'location', 'domestic',\n       'luncheon', 'accident', 'monument', 'prospect', 'facility',\n       'barbecue', 'emission', 'devotion', 'heritage', 'validity',\n       'humanity', 'ideology', 'syndrome', 'exemplar', 'impurity',\n       'physique', 'breakage', 'travesty', 'magnolia', 'stiletto',\n       'variance', 'syllable', 'hypnosis', 'infusion', 'real', 'wish',\n       'east', 'firm', 'girl', 'jazz', 'care', 'past', 'wall', 'half',\n       'deep', 'door', 'bank', 'self', 'save', 'nose', 'tour', 'hero',\n       'rule', 'lady', 'king', 'wire', 'goal', 'item', 'acid', 'soup',\n       'bore', 'chip', 'host', 'bunk', 'wise', 'debt', 'pity', 'trim',\n       'pond', 'silk', 'diva', 'pore', 'blob', 'wisp', 'hunk', 'lava',\n       'rink', 'pawn', 'gist', 'cusp', 'brig', 'shah', 'truth', 'style',\n       'story', 'radio', 'month', 'woman', 'white', 'floor', 'moral',\n       'staff', 'force', 'visit', 'shore', 'spite', 'depth', 'phase',\n       'offer', 'truck', 'sweet', 'trust', 'stone', 'cross', 'shift',\n       'youth', 'stern', 'stuff', 'craft', 'quest', 'shirt', 'nerve',\n       'shell', 'movie', 'spark', 'lever', 'array', 'fence', 'spoof',\n       'curio', 'bravo', 'blush', 'sloop', 'nasal', 'sneak', 'quirk',\n       'query', 'genre', 'crust', 'swirl', 'police', 'middle', 'degree',\n       'market', 'member', 'volume', 'modern', 'policy', 'effort',\n       'matter', 'public', 'window', 'bottom', 'breath', 'winter',\n       'talent', 'notion', 'appeal', 'cousin', 'double', 'excess',\n       'female', 'senate', 'factor', 'pistol', 'ribbon', 'clergy',\n       'sermon', 'cancer', 'cereal', 'marble', 'phrase', 'morale',\n       'cavity', 'divine', 'tenure', 'cipher', 'belfry', 'crater',\n       'covert', 'cavern', 'oracle', 'libido', 'gender', 'heresy',\n       'anthem', 'trauma', 'zombie', 'society', 'control', 'feeling',\n       'quality', 'officer', 'special', 'evening', 'student', 'subject',\n       'outside', 'surface', 'hundred', 'musical', 'removal', 'contact',\n       'shelter', 'minimum', 'variety', 'holding', 'cutting', 'village',\n       'benefit', 'conduct', 'express', 'horizon', 'triumph', 'turmoil',\n       'collect', 'battery', 'lantern', 'dilemma', 'pitcher', 'painter',\n       'urgency', 'theorem', 'veteran', 'brewery', 'scuffle', 'majesty',\n       'inferno', 'buffoon', 'muffler', 'vanilla', 'lunatic', 'canteen',\n       'mockery', 'redress', 'fluency', 'straight', 'movement',\n       'research', 'industry', 'religion', 'congress', 'interest',\n       'business', 'children', 'original', 'question', 'thousand',\n       'railroad', 'negative', 'aircraft', 'exchange', 'parallel',\n       'contract', 'interior', 'creation', 'doctrine', 'republic',\n       'surprise', 'engineer', 'civilian', 'cardinal', 'champion',\n       'momentum', 'ambition', 'minority', 'electron', 'customer',\n       'graduate', 'calendar', 'stockade', 'duration', 'pacifist',\n       'clarinet', 'minstrel', 'nautilus', 'subpoena', 'canister',\n       'peroxide', 'ordnance', 'emissary', 'ablation', 'fracture',\n       'materiel', 'heat', 'test', 'lack', 'hell', 'stay', 'wide', 'city',\n       'fire', 'rise', 'mean', 'club', 'deal', 'task', 'term', 'camp',\n       'vice', 'moon', 'wild', 'fort', 'mine', 'cool', 'tree', 'team',\n       'cook', 'nest', 'tomb', 'lock', 'grab', 'ruin', 'wing', 'cult',\n       'bush', 'joke', 'spit', 'chin', 'cash', 'cove', 'kale', 'goad',\n       'omen', 'dope', 'gill', 'loft', 'thug', 'rasp', 'cask', 'chum',\n       'lute', 'money', 'blood', 'music', 'paper', 'water', 'cause',\n       'chief', 'hotel', 'plane', 'doubt', 'earth', 'voice', 'title',\n       'scale', 'grass', 'index', 'award', 'metal', 'grace', 'frame',\n       'focus', 'chest', 'motor', 'sheet', 'midst', 'waste', 'curse',\n       'glory', 'abuse', 'cream', 'squad', 'ranch', 'shaft', 'venus',\n       'slice', 'shelf', 'craze', 'cleat', 'sheen', 'plaza', 'fable',\n       'broil', 'lymph', 'knoll', 'clove', 'crate', 'hedge', 'banjo',\n       'nation', 'school', 'weight', 'length', 'report', 'answer',\n       'manner', 'design', 'record', 'charge', 'extent', 'square',\n       'signal', 'prison', 'escape', 'circle', 'fellow', 'sample',\n       'speech', 'finger', 'device', 'symbol', 'stream', 'minute',\n       'whisky', 'debate', 'flower', 'prayer', 'expert', 'gossip',\n       'saloon', 'lesson', 'ritual', 'carpet', 'wealth', 'motive',\n       'morass', 'pariah', 'recess', 'ginger', 'hybrid', 'pelvis',\n       'embryo', 'caucus', 'fetish', 'malady', 'maiden', 'orphan',\n       'machine', 'history', 'opinion', 'reading', 'pattern', 'morning',\n       'problem', 'freedom', 'nothing', 'average', 'picture', 'trouble',\n       'portion', 'fiction', 'economy', 'command', 'message', 'brother',\n       'faculty', 'promise', 'culture', 'concept', 'teacher', 'victory',\n       'mineral', 'exhibit', 'spectra', 'observe', 'worship', 'slavery',\n       'journey', 'suspect', 'whisper', 'mistake', 'cavalry', 'boredom',\n       'ovation', 'calvary', 'thicket', 'figment', 'trawler', 'puberty',\n       'apostle', 'sibling', 'persona', 'blunder', 'typhoon', 'tumbler',\n       'function', 'national', 'division', 'specific', 'progress',\n       'strength', 'activity', 'district', 'analysis', 'physical',\n       'military', 'remember', 'entrance', 'dominant', 'pleasure',\n       'violence', 'guidance', 'relative', 'struggle', 'december',\n       'emphasis', 'judgment', 'argument', 'proposal', 'narrator',\n       'employee', 'friction', 'elevator', 'velocity', 'disaster',\n       'linguist', 'disposal', 'patience', 'compound', 'laughter',\n       'coverage', 'delusion', 'sentinel', 'bungalow', 'colossus',\n       'exertion', 'antidote', 'chivalry', 'drudgery', 'reversal',\n       'billiard', 'adherent', 'solenoid'], dtype=object)"
     },
     "execution_count": 32,
     "metadata": {},
     "output_type": "execute_result"
    }
   ],
   "source": [
    "list_words"
   ],
   "metadata": {
    "collapsed": false,
    "ExecuteTime": {
     "end_time": "2024-06-03T13:25:04.045117103Z",
     "start_time": "2024-06-03T13:25:04.040237628Z"
    }
   }
  },
  {
   "cell_type": "code",
   "execution_count": 52,
   "outputs": [
    {
     "data": {
      "text/plain": "array([[-0.659516, -0.503065, -0.367258, ...,  2.747581,  2.862419,\n         2.988065],\n       [-0.613226, -0.490806, -0.379839, ...,  2.047419,  2.17    ,\n         2.310968],\n       [-0.61129 , -0.549194, -0.500645, ...,  0.969839,  1.249355,\n         1.505161],\n       ...,\n       [ 0.461774,  0.477097,  0.429355, ...,  1.190161,  1.647742,\n         2.058871],\n       [ 0.76371 ,  0.612258,  0.386935, ...,  1.108548,  1.537742,\n         1.896129],\n       [ 0.904194,  0.738387,  0.479355, ...,  1.467742,  2.335484,\n         3.070484]])"
     },
     "execution_count": 52,
     "metadata": {},
     "output_type": "execute_result"
    }
   ],
   "source": [
    "da = grouped_data.get_group(\"camera\")\n",
    "da = da[~da['ELECNAME'].isin([\"REJ1\", \"REJ2\", \"REJ3\"])]#.drop(columns=['WORD#', 'WORD', 'ELEC#', 'ELECNAME'])\n",
    "da.drop(columns=['WORD#', 'WORD', 'ELEC#', 'ELECNAME']).to_numpy()"
   ],
   "metadata": {
    "collapsed": false,
    "ExecuteTime": {
     "end_time": "2024-06-03T13:49:21.456431354Z",
     "start_time": "2024-06-03T13:49:21.408234578Z"
    }
   }
  }
 ],
 "metadata": {
  "kernelspec": {
   "display_name": "Python 3",
   "language": "python",
   "name": "python3"
  },
  "language_info": {
   "codemirror_mode": {
    "name": "ipython",
    "version": 2
   },
   "file_extension": ".py",
   "mimetype": "text/x-python",
   "name": "python",
   "nbconvert_exporter": "python",
   "pygments_lexer": "ipython2",
   "version": "2.7.6"
  }
 },
 "nbformat": 4,
 "nbformat_minor": 0
}
